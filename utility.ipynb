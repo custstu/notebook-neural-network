{
 "cells": [
  {
   "cell_type": "code",
   "execution_count": 35,
   "metadata": {
    "collapsed": false
   },
   "outputs": [],
   "source": [
    "%matplotlib inline\n",
    "\n",
    "import os\n",
    "import numpy as np\n",
    "import matplotlib.pyplot as plt\n",
    "from mpl_toolkits.mplot3d import Axes3D\n",
    "from matplotlib import cm\n",
    "\n",
    "\n",
    "class Plot:\n",
    "    \n",
    "    def __init__(self, labels, xlim, ylim, steps):\n",
    "        self.labels = labels\n",
    "        self.xlim = xlim\n",
    "        self.ylim = ylim\n",
    "        self.steps = steps\n",
    "        self.elev = None\n",
    "        self.azim = None\n",
    "    \n",
    "    def coords(self):\n",
    "        x = np.linspace(self.xlim[0], self.xlim[1], self.steps)\n",
    "        y = np.linspace(self.ylim[0], self.ylim[1], self.steps)\n",
    "        self.x, self.y = np.meshgrid(x, y)\n",
    "        return np.vstack([np.ravel(self.x), np.ravel(self.y)])\n",
    "    \n",
    "    def view(self, elev=None, azim=None):\n",
    "        if elev:\n",
    "            self.elev = elev\n",
    "        if azim:\n",
    "            self.azim = azim\n",
    "            \n",
    "    def save(self, path, transparent=True):\n",
    "        plt.savefig(path, bbox_inches='tight', pad_inches=0.5, transparent=transparent)\n",
    "\n",
    "    def __call__(self, title, z, cmap=cm.jet, linewidth=0):\n",
    "        self.fig = plt.figure()\n",
    "        ax = self.fig.gca(projection='3d')\n",
    "        ax.set_title(title)\n",
    "        ax.set_xlabel(self.labels[0])\n",
    "        ax.set_ylabel(self.labels[1])\n",
    "        ax.set_zlabel(self.labels[2])\n",
    "        ax.set_xlim(*self.xlim)\n",
    "        ax.set_ylim(*self.ylim)\n",
    "        ax.set_zlim(z.min(), z.max())\n",
    "        ax.view_init(self.elev, self.azim)\n",
    "        z = z.reshape(self.x.shape)\n",
    "        ax.plot_surface(self.x, self.y, z, rstride=1, cstride=1, cmap=cmap, linewidth=linewidth)\n",
    "        self.save(os.path.join('figure', '-'.join(title.lower().split())) + '.png')"
   ]
  }
 ],
 "metadata": {
  "kernelspec": {
   "display_name": "Python 3",
   "language": "python",
   "name": "python3"
  },
  "language_info": {
   "codemirror_mode": {
    "name": "ipython",
    "version": 3
   },
   "file_extension": ".py",
   "mimetype": "text/x-python",
   "name": "python",
   "nbconvert_exporter": "python",
   "pygments_lexer": "ipython3",
   "version": "3.5.0"
  }
 },
 "nbformat": 4,
 "nbformat_minor": 0
}
